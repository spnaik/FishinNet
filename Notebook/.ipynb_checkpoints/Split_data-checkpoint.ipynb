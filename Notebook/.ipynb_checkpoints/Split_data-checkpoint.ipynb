{
 "cells": [
  {
   "cell_type": "markdown",
   "metadata": {},
   "source": [
    "# Split the data into training and validation"
   ]
  },
  {
   "cell_type": "code",
   "execution_count": 3,
   "metadata": {
    "collapsed": true
   },
   "outputs": [],
   "source": [
    "\n",
    "from __future__ import print_function"
   ]
  },
  {
   "cell_type": "code",
   "execution_count": 2,
   "metadata": {
    "collapsed": true
   },
   "outputs": [],
   "source": [
    "import shutil"
   ]
  },
  {
   "cell_type": "code",
   "execution_count": 1,
   "metadata": {
    "collapsed": false
   },
   "outputs": [
    {
     "name": "stderr",
     "output_type": "stream",
     "text": [
      "Using TensorFlow backend.\n"
     ]
    }
   ],
   "source": [
    "import os\n",
    "import numpy as np\n",
    "import keras"
   ]
  },
  {
   "cell_type": "code",
   "execution_count": 4,
   "metadata": {
    "collapsed": true
   },
   "outputs": [],
   "source": [
    "%matplotlib inline"
   ]
  },
  {
   "cell_type": "code",
   "execution_count": 5,
   "metadata": {
    "collapsed": true
   },
   "outputs": [],
   "source": [
    "import matplotlib.pyplot as plt"
   ]
  },
  {
   "cell_type": "code",
   "execution_count": 8,
   "metadata": {
    "collapsed": true
   },
   "outputs": [],
   "source": [
    "salmondata_dir = \"/home/paperspace/Documents/insight/data_crop/train_crop\"\n",
    "class_salmon = os.listdir(salmondata_dir) \n",
    "class_salmon = [f for f in class_salmon if not f.startswith('.')] # to remove the hidden files .DSstore\n",
    "class_salmon.sort()"
   ]
  },
  {
   "cell_type": "code",
   "execution_count": 10,
   "metadata": {
    "collapsed": false
   },
   "outputs": [],
   "source": [
    "trainpath = os.mkdir(\"train_kg\")\n",
    "valpath = os.mkdir(\"validation_kg\")"
   ]
  },
  {
   "cell_type": "code",
   "execution_count": 11,
   "metadata": {
    "collapsed": true
   },
   "outputs": [],
   "source": [
    "train_dir = \"train_kg/\"\n",
    "val_dir = \"validation_kg/\"\n",
    "for c in class_salmon:\n",
    "    os.mkdir(train_dir+c+'/')\n",
    "for c in class_salmon:\n",
    "    os.mkdir(val_dir+c+'/')"
   ]
  },
  {
   "cell_type": "code",
   "execution_count": 13,
   "metadata": {
    "collapsed": false
   },
   "outputs": [],
   "source": [
    "for c in class_salmon:\n",
    "    src_dir = salmondata_dir+'/'+c+'/'\n",
    "    des_dir_train=train_dir + c + '/'\n",
    "    des_dir_val = val_dir+c +'/'\n",
    "    np.random.shuffle(os.listdir(src_dir))\n",
    "    k = os.listdir(src_dir)\n",
    "    split_ratio = 0.8 # should be the size of train set\n",
    "    idx = int(split_ratio*len(k))\n",
    "    train_images = k[:idx]\n",
    "    train_images = [f for f in train_images if not f.startswith('.')]   \n",
    "    val_images = k[idx:]\n",
    "    val_images = [f for f in val_images if not f.startswith('.')]   \n",
    "    for image in train_images :\n",
    "        src = src_dir + image\n",
    "        final = des_dir_train+ image\n",
    "        shutil.copy(src,final)\n",
    "        \n",
    "    for image in val_images:\n",
    "        src = src_dir + image\n",
    "        final = des_dir_val + image\n",
    "        shutil.copy(src,final)   "
   ]
  },
  {
   "cell_type": "code",
   "execution_count": null,
   "metadata": {
    "collapsed": true
   },
   "outputs": [],
   "source": [
    "# to remove the created files\n",
    "#shutil.rmtree(\"train_kg\")\n",
    "#shutil.rmtree(\"validation_kg\")"
   ]
  }
 ],
 "metadata": {
  "kernelspec": {
   "display_name": "Python [anaconda2]",
   "language": "python",
   "name": "Python [anaconda2]"
  },
  "language_info": {
   "codemirror_mode": {
    "name": "ipython",
    "version": 2
   },
   "file_extension": ".py",
   "mimetype": "text/x-python",
   "name": "python",
   "nbconvert_exporter": "python",
   "pygments_lexer": "ipython2",
   "version": "2.7.15"
  }
 },
 "nbformat": 4,
 "nbformat_minor": 0
}
