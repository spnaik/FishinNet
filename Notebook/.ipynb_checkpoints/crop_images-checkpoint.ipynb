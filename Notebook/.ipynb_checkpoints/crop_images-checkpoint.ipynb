{
 "cells": [
  {
   "cell_type": "code",
   "execution_count": 27,
   "metadata": {
    "collapsed": false
   },
   "outputs": [],
   "source": [
    "from __future__ import division, print_function\n",
    "%matplotlib inline\n",
    "import utils\n",
    "from glob import glob\n",
    "import numpy as np\n",
    "from scipy import misc, ndimage\n",
    "from scipy.ndimage.interpolation import zoom\n",
    "import cv2\n",
    "from utils import *\n",
    "import os, json\n",
    "import matplotlib.pyplot as plt"
   ]
  },
  {
   "cell_type": "code",
   "execution_count": 11,
   "metadata": {
    "collapsed": true
   },
   "outputs": [],
   "source": [
    "ROOT_DIR = os.path.dirname('/home/paperspace/Documents/insight/') \n",
    "DATA_HOME_DIR = ROOT_DIR + '/data_crop/'\n",
    "\n",
    "source_path = DATA_HOME_DIR+\"train_full/\"\n",
    "export_path = DATA_HOME_DIR+'train_crop/'\n",
    "\n",
    "crop_width = 450\n",
    "\n",
    "anno_classes = ['alb', 'bet', 'dol', 'lag', 'other', 'shark', 'yft']"
   ]
  },
  {
   "cell_type": "code",
   "execution_count": 22,
   "metadata": {
    "collapsed": false
   },
   "outputs": [
    {
     "name": "stdout",
     "output_type": "stream",
     "text": [
      "/home/paperspace/Documents/insight/data_crop/train_crop/\n",
      "/home/paperspace/Documents/insight/data_crop/train_full/\n"
     ]
    }
   ],
   "source": [
    "os.listdir(source_path)\n",
    "print (export_path)\n",
    "print (source_path)"
   ]
  },
  {
   "cell_type": "code",
   "execution_count": 16,
   "metadata": {
    "collapsed": false
   },
   "outputs": [],
   "source": [
    "bb_json = {}\n",
    "\n",
    "j = json.load(open('{}/all_fish_labels.json'.format(\"/home/paperspace/Documents/insight/data_crop\"), 'r'))\n",
    "\n",
    "for  i , l in enumerate(j):\n",
    "    filename = l['filename'].split('/')[-1]\n",
    "    if 'annotations' in l.keys() and len(l['annotations'])>0:\n",
    "            bb_json[filename] = sorted(\n",
    "                l['annotations'], key=lambda x: x['height']*x['width'])[-1]\n",
    "\n",
    "    if len(l['annotations']) ==0:\n",
    "        bb_json[filename]  = {'height': 0., 'width': 0., 'x': 0., 'y': 0.}"
   ]
  },
  {
   "cell_type": "code",
   "execution_count": 17,
   "metadata": {
    "collapsed": false
   },
   "outputs": [
    {
     "data": {
      "text/plain": [
       "3312"
      ]
     },
     "execution_count": 17,
     "metadata": {},
     "output_type": "execute_result"
    }
   ],
   "source": [
    "len(bb_json)"
   ]
  },
  {
   "cell_type": "code",
   "execution_count": null,
   "metadata": {
    "collapsed": false
   },
   "outputs": [
    {
     "name": "stdout",
     "output_type": "stream",
     "text": [
      "ERROR! Session/line number was not unique in database. History logging moved to new session 21\n"
     ]
    }
   ],
   "source": [
    "for folder in glob(os.path.join(source_path, '*')):\n",
    "       \n",
    "    for f in glob(os.path.join(folder, '*')):\n",
    "        img = cv2.imread(f)\n",
    "        #plt.imshow(img)\n",
    "        img_width = img.shape[1]\n",
    "        img_height = img.shape[0]\n",
    "        \n",
    "        \n",
    "        bb = bb_json[f.split('/')[-1]]\n",
    "        x = bb['x'] #bottom left\n",
    "        y = bb['y']\n",
    "          \n",
    "        \n",
    "        #find center of the box\n",
    "\n",
    "        cX = x + bb['width']/2\n",
    "        cY = y + bb['height']/2\n",
    "\n",
    "\n",
    "        #calculate boundries of bounding box (overriding x,y to make bbox bigger)\n",
    "        x = max(cX - crop_width/2, 0)\n",
    "        y = max(cY - crop_width/2, 0)\n",
    "      \n",
    "        if x + crop_width > img_width:\n",
    "            x = img_width - crop_width\n",
    "        if y + crop_width > img_height:\n",
    "            y = img_height - crop_width\n",
    "\n",
    "        \n",
    "        x = int(x)\n",
    "        y = int(y)\n",
    "        \n",
    "# ##### plot bounding box    \n",
    "# #         cv2.rectangle(img,(x,y),(x+crop_width,y+crop_width),color=(255, 255, 255))\n",
    "# #         plt.imshow(img)\n",
    "\n",
    "            \n",
    "#     ##### crop the image and save\n",
    "#         crop_img = img[y:y+crop_width, x:x+crop_width]\n",
    "# #         plt.imshow(crop_img)\n",
    "        \n",
    "#         foldername = folder.split('/')[-1]\n",
    "#         filename = f.split('/')[-1]\n",
    "# #         print(export_path+foldername+\"/\"+filename)\n",
    "#         cv2.imwrite(export_path+foldername+\"/\"+filename,crop_img)    \n",
    "# #         break"
   ]
  },
  {
   "cell_type": "code",
   "execution_count": 19,
   "metadata": {
    "collapsed": false
   },
   "outputs": [
    {
     "data": {
      "text/plain": [
       "[]"
      ]
     },
     "execution_count": 19,
     "metadata": {},
     "output_type": "execute_result"
    }
   ],
   "source": [
    "os.listdir(export_path)"
   ]
  },
  {
   "cell_type": "code",
   "execution_count": null,
   "metadata": {
    "collapsed": true
   },
   "outputs": [],
   "source": []
  }
 ],
 "metadata": {
  "kernelspec": {
   "display_name": "Python [anaconda2]",
   "language": "python",
   "name": "Python [anaconda2]"
  },
  "language_info": {
   "codemirror_mode": {
    "name": "ipython",
    "version": 2
   },
   "file_extension": ".py",
   "mimetype": "text/x-python",
   "name": "python",
   "nbconvert_exporter": "python",
   "pygments_lexer": "ipython2",
   "version": "2.7.15"
  }
 },
 "nbformat": 4,
 "nbformat_minor": 0
}
