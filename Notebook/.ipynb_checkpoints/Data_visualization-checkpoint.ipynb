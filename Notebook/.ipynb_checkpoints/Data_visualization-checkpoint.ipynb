{
 "cells": [
  {
   "cell_type": "code",
   "execution_count": 8,
   "metadata": {},
   "outputs": [],
   "source": [
    "import os\n",
    "%matplotlib inline\n",
    "import pandas as pd\n",
    "import matplotlib.pyplot as plt\n",
    "from keras.models import Model\n",
    "from keras.applications.vgg16 import VGG16\n",
    "from keras.preprocessing.image import ImageDataGenerator\n",
    "from keras.callbacks import ModelCheckpoint,EarlyStopping\n",
    "from keras.preprocessing.image import array_to_img, img_to_array, load_img\n",
    "import numpy as np\n",
    "from keras.preprocessing import image"
   ]
  },
  {
   "cell_type": "code",
   "execution_count": 3,
   "metadata": {
    "collapsed": true
   },
   "outputs": [],
   "source": [
    "train_dir = \"../train/\"\n",
    "test_dir = \"../test_stg1\""
   ]
  },
  {
   "cell_type": "code",
   "execution_count": 4,
   "metadata": {
    "collapsed": true
   },
   "outputs": [],
   "source": [
    "classes = os.listdir(train_dir)\n",
    "classes = [x for x in os.listdir(train_dir) if not x.startswith('.')]"
   ]
  },
  {
   "cell_type": "code",
   "execution_count": 5,
   "metadata": {},
   "outputs": [
    {
     "name": "stdout",
     "output_type": "stream",
     "text": [
      "['YFT', 'OTHER', 'NoF', 'LAG', 'DOL', 'ALB', 'SHARK', 'BET']\n",
      "the total number of training data is 3777\n"
     ]
    }
   ],
   "source": [
    "print classes\n",
    "nTrain_data= []\n",
    "nVal_data = []\n",
    "train_labels=[]\n",
    "val_labels=[]\n",
    "for c in classes:\n",
    "    t = [c]*len(os.listdir(train_dir+c+'/'))\n",
    "    #v = [c]*len(os.listdir(validation_dir+'/'+c+'/'))\n",
    "    nTrain_data.extend(t)\n",
    "    #nVal_data.extend(v)\n",
    "    train_labels.append(len(os.listdir(train_dir+'/'+c)))\n",
    "    #val_labels.append(len(os.listdir(validation_dir+'/'+c)))\n",
    "print 'the total number of training data is', len(nTrain_data)\n",
    "#print 'the total number of validation data is', len(nVal_data)"
   ]
  },
  {
   "cell_type": "code",
   "execution_count": 6,
   "metadata": {},
   "outputs": [
    {
     "name": "stdout",
     "output_type": "stream",
     "text": [
      "[0 1 2 3 4 5 6 7]\n"
     ]
    }
   ],
   "source": [
    "ind = np.arange(8)\n",
    "print ind"
   ]
  },
  {
   "cell_type": "code",
   "execution_count": 9,
   "metadata": {},
   "outputs": [
    {
     "data": {
      "text/plain": [
       "<matplotlib.text.Text at 0x7f35f6820150>"
      ]
     },
     "execution_count": 9,
     "metadata": {},
     "output_type": "execute_result"
    },
    {
     "data": {
      "image/png": "[encoded data removed]",
      "text/plain": [
       "<matplotlib.figure.Figure at 0x7f35f692e210>"
      ]
     },
     "metadata": {},
     "output_type": "display_data"
    }
   ],
   "source": [
    "plt.bar(ind,train_labels,color=['orange'])\n",
    "plt.xticks(ind,classes,rotation=90,fontsize=16)\n",
    "plt.yticks(fontsize=16)\n",
    "plt.title(\"Training Classes Distribution\",fontsize=17)"
   ]
  },
  {
   "cell_type": "code",
   "execution_count": null,
   "metadata": {
    "collapsed": true
   },
   "outputs": [],
   "source": []
  }
 ],
 "metadata": {
  "kernelspec": {
   "display_name": "Python 2",
   "language": "python",
   "name": "python2"
  },
  "language_info": {
   "codemirror_mode": {
    "name": "ipython",
    "version": 2
   },
   "file_extension": ".py",
   "mimetype": "text/x-python",
   "name": "python",
   "nbconvert_exporter": "python",
   "pygments_lexer": "ipython2",
   "version": "2.7.6"
  }
 },
 "nbformat": 4,
 "nbformat_minor": 2
}
